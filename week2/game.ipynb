{
 "cells": [
  {
   "cell_type": "markdown",
   "metadata": {},
   "source": [
    "# Frog Game in Python\n",
    "\n",
    "First we create a list of the positions of thye frogs and the empty location by the name of 'rocks' as rocks are the places where the frogs sit and also signify a vacant space where frog can possibly be present in the game."
   ]
  },
  {
   "cell_type": "code",
   "execution_count": 38,
   "metadata": {},
   "outputs": [
    {
     "data": {
      "text/plain": [
       "['G', 'G', 'G', ' ', 'B', 'B', 'B']"
      ]
     },
     "execution_count": 38,
     "metadata": {},
     "output_type": "execute_result"
    }
   ],
   "source": [
    "rocks = ['G','G','G',' ','B','B','B']\n",
    "rocks"
   ]
  },
  {
   "cell_type": "markdown",
   "metadata": {},
   "source": [
    "# Creating Functions\n",
    "\n",
    "Functions are special blocks of code that are called more than once in a program. They provide structure to a program by sp[ecifying the task to be completed by the function."
   ]
  },
  {
   "cell_type": "markdown",
   "metadata": {},
   "source": [
    "We now create a function named **moveGreen(index, rocks)** which gives us the logic to move a green coloured frog. THe green coloured frogs have to move in the forward direction and can jump only one frog.\n",
    "\n",
    "The parameters taken by the function are:\n",
    "\n",
    "**index**: the index of the frog which has to move\n",
    "\n",
    "**rocks**: the position array of frogs"
   ]
  },
  {
   "cell_type": "code",
   "execution_count": 39,
   "metadata": {},
   "outputs": [],
   "source": [
    "def moveGreen(index, rocks):\n",
    "    blank = rocks.index(' ')+1\n",
    "    if blank-1==index:\n",
    "        rocks[index-1]=' '\n",
    "        rocks[blank-1]='G'\n",
    "    elif blank-2==index:\n",
    "        rocks[index-1]=' '\n",
    "        rocks[blank-1]='G'\n",
    "    else:\n",
    "        print(\"Invalid Move\")\n",
    "    print(rocks)"
   ]
  },
  {
   "cell_type": "markdown",
   "metadata": {},
   "source": [
    "We now move on to create a function named **moveBrown(index, rocks)** similar to the moveGreen function which give the logic for the movement of brown coloured frogs. the brown coloured frogs have to move backward in the array as they are facing backwards.\n",
    "\n",
    "It also takes the same parameters as the moveGreen function."
   ]
  },
  {
   "cell_type": "code",
   "execution_count": 40,
   "metadata": {},
   "outputs": [],
   "source": [
    "def moveBrown(index, rocks):\n",
    "    blank = rocks.index(' ')+1\n",
    "    if blank+1==index:\n",
    "        rocks[index-1]=' '\n",
    "        rocks[blank-1]='B'\n",
    "    elif blank+2==index:\n",
    "        rocks[index-1]=' '\n",
    "        rocks[blank-1]='B'\n",
    "    else:\n",
    "        print(\"Invalid Move\")\n",
    "    print(rocks)"
   ]
  },
  {
   "cell_type": "markdown",
   "metadata": {},
   "source": [
    "The next function we create is the **getColor(index, rocks)** function which takes the same parameters as the above two functions but returns the color of the frog which is supposed to move. It is equally important to know the color of the frog to move so as to make its movement more easier and hassle free."
   ]
  },
  {
   "cell_type": "code",
   "execution_count": 41,
   "metadata": {},
   "outputs": [],
   "source": [
    "def getColor(index, rocks):\n",
    "    frog = rocks[index-1]\n",
    "    if frog=='G':\n",
    "        return \"green\"\n",
    "    elif frog=='B':\n",
    "        return \"brown\"\n",
    "    else:\n",
    "        return \"empty\""
   ]
  },
  {
   "cell_type": "markdown",
   "metadata": {},
   "source": [
    "We also create a function to restart the game which can be done by pressing the 'r' key. This is an extra option given to user, if he does not want to quit or lose, he can simply restart the game."
   ]
  },
  {
   "cell_type": "code",
   "execution_count": 42,
   "metadata": {},
   "outputs": [],
   "source": [
    "def restart():\n",
    "    rocks = ['G','G','G',' ','B','B','B']\n",
    "    return rocks"
   ]
  },
  {
   "cell_type": "markdown",
   "metadata": {},
   "source": [
    "Since it is not an easy game to crack, the final option the user is left with is to quit. Hence, we create a function named **quit()** which gets into action by pressing the 'q' key on the keyboard.\n",
    "\n",
    "Although there was noi need of this function, we created it just to make the code more readable and understandable to a layman."
   ]
  },
  {
   "cell_type": "code",
   "execution_count": 43,
   "metadata": {},
   "outputs": [],
   "source": [
    "def quit():\n",
    "    print(\"You lose!!!\")"
   ]
  },
  {
   "cell_type": "markdown",
   "metadata": {},
   "source": [
    "We now define a variable named 'ans' which stores the answer of the user and makes the loop run infinitely until the answer is set to some specific confition as will be discussed below.\n",
    "\n",
    "'ans = \"s\"' denotes that the ans variable is set to s which means 'start'. Hence, it displaysthe user action at each and every point of time."
   ]
  },
  {
   "cell_type": "code",
   "execution_count": 44,
   "metadata": {},
   "outputs": [],
   "source": [
    "ans = 's'"
   ]
  },
  {
   "cell_type": "markdown",
   "metadata": {},
   "source": [
    "Here we print the initial positions of the frogs"
   ]
  },
  {
   "cell_type": "code",
   "execution_count": 45,
   "metadata": {},
   "outputs": [
    {
     "data": {
      "text/plain": [
       "['G', 'G', 'G', ' ', 'B', 'B', 'B']"
      ]
     },
     "execution_count": 45,
     "metadata": {},
     "output_type": "execute_result"
    }
   ],
   "source": [
    "rocks"
   ]
  },
  {
   "cell_type": "markdown",
   "metadata": {},
   "source": [
    "# Main Code (Main Logic of the game)\n",
    "\n",
    "We use the variable ans defined earlier to get the user answer, which tells us about the course of action to be followed.\n",
    "\n",
    "if ans='q' that means that the user wants to quit the game and the loop breaks. This also causes the quit function that we created earlier to get called or invoked.\n",
    "\n",
    "if ans='r' that means that the user wants to restart his game. he has gained some insights about the course of action he wants to take so as to win rather than to lose.\n",
    "\n",
    "Otherwise the user inputs the index value of the frog to move. the index values of the frogs are from 1-7 as :\n",
    "\n",
    "Index       Frog\n",
    "\n",
    "1           G\n",
    "\n",
    "2           G\n",
    "\n",
    "3           G\n",
    "\n",
    "4\n",
    "\n",
    "5           B\n",
    "\n",
    "6           B\n",
    "\n",
    "7           B\n",
    "\n",
    "The empty space at the index 4 denotes the empty or blank rock present initially at the position.\n",
    "\n",
    "\n",
    "In the end we check for whether or not the final condition is met. if the final condition of all green frogs at other end and all brown frogs at the first end is achieved, the game prints the message \"Congrats! You Won!!\" and exits the game"
   ]
  },
  {
   "cell_type": "code",
   "execution_count": 46,
   "metadata": {},
   "outputs": [
    {
     "name": "stdout",
     "output_type": "stream",
     "text": [
      "Indices start from 1 to 7\n",
      "['G', 'G', 'G', ' ', 'B', 'B', 'B']\n",
      "2\n",
      "['G', ' ', 'G', 'G', 'B', 'B', 'B']\n",
      "Indices start from 1 to 7\n",
      "['G', ' ', 'G', 'G', 'B', 'B', 'B']\n",
      "r\n",
      "Indices start from 1 to 7\n",
      "['G', 'G', 'G', ' ', 'B', 'B', 'B']\n",
      "r\n",
      "Indices start from 1 to 7\n",
      "['G', 'G', 'G', ' ', 'B', 'B', 'B']\n",
      "4\n",
      "No frog at the index to move\n",
      "Indices start from 1 to 7\n",
      "['G', 'G', 'G', ' ', 'B', 'B', 'B']\n",
      "4\n",
      "No frog at the index to move\n",
      "Indices start from 1 to 7\n",
      "['G', 'G', 'G', ' ', 'B', 'B', 'B']\n",
      "5\n",
      "['G', 'G', 'G', 'B', ' ', 'B', 'B']\n",
      "Indices start from 1 to 7\n",
      "['G', 'G', 'G', 'B', ' ', 'B', 'B']\n",
      "3\n",
      "['G', 'G', ' ', 'B', 'G', 'B', 'B']\n",
      "Indices start from 1 to 7\n",
      "['G', 'G', ' ', 'B', 'G', 'B', 'B']\n",
      "4\n",
      "['G', 'G', 'B', ' ', 'G', 'B', 'B']\n",
      "Indices start from 1 to 7\n",
      "['G', 'G', 'B', ' ', 'G', 'B', 'B']\n",
      "6\n",
      "['G', 'G', 'B', 'B', 'G', ' ', 'B']\n",
      "Indices start from 1 to 7\n",
      "['G', 'G', 'B', 'B', 'G', ' ', 'B']\n",
      "6\n",
      "No frog at the index to move\n",
      "Indices start from 1 to 7\n",
      "['G', 'G', 'B', 'B', 'G', ' ', 'B']\n",
      "7\n",
      "['G', 'G', 'B', 'B', 'G', 'B', ' ']\n",
      "Indices start from 1 to 7\n",
      "['G', 'G', 'B', 'B', 'G', 'B', ' ']\n",
      "5\n",
      "['G', 'G', 'B', 'B', ' ', 'B', 'G']\n",
      "Indices start from 1 to 7\n",
      "['G', 'G', 'B', 'B', ' ', 'B', 'G']\n",
      "5\n",
      "No frog at the index to move\n",
      "Indices start from 1 to 7\n",
      "['G', 'G', 'B', 'B', ' ', 'B', 'G']\n",
      "6\n",
      "['G', 'G', 'B', 'B', 'B', ' ', 'G']\n",
      "Indices start from 1 to 7\n",
      "['G', 'G', 'B', 'B', 'B', ' ', 'G']\n",
      "q\n",
      "You lose!!!\n"
     ]
    }
   ],
   "source": [
    "while ans!='q':\n",
    "    print(\"Indices start from 1 to 7\")\n",
    "    print(rocks)\n",
    "    ans = input(\"Enter the index of frog to move or q to quit or r to restart : \")\n",
    "    print(ans)\n",
    "    if ans=='q':\n",
    "        quit()\n",
    "    elif ans=='r':\n",
    "        rocks = restart()\n",
    "    else:\n",
    "        index = int(ans)\n",
    "        c = getColor(index, rocks)\n",
    "        if c==\"green\":\n",
    "            moveGreen(index, rocks)\n",
    "        elif c==\"brown\":\n",
    "            moveBrown(index, rocks)\n",
    "        else:\n",
    "            print(\"No frog at the index to move\")\n",
    "        if rocks==['B','B','B',' ','G','G','G']:\n",
    "            print(\"Congrats! You Won!!\")\n",
    "            ans = 'q'"
   ]
  },
  {
   "cell_type": "code",
   "execution_count": null,
   "metadata": {},
   "outputs": [],
   "source": []
  }
 ],
 "metadata": {
  "kernelspec": {
   "display_name": "base",
   "language": "python",
   "name": "python3"
  },
  "language_info": {
   "codemirror_mode": {
    "name": "ipython",
    "version": 3
   },
   "file_extension": ".py",
   "mimetype": "text/x-python",
   "name": "python",
   "nbconvert_exporter": "python",
   "pygments_lexer": "ipython3",
   "version": "3.9.12"
  }
 },
 "nbformat": 4,
 "nbformat_minor": 2
}
